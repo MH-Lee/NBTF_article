{
 "cells": [
  {
   "cell_type": "code",
   "execution_count": 1,
   "metadata": {},
   "outputs": [],
   "source": [
    "import numpy as np\n",
    "import pandas as pd\n",
    "import re\n",
    "import math\n",
    "import itertools\n",
    "import networkx as nx\n",
    "import matplotlib.pyplot as plt\n",
    "import pandas as pd\n",
    "import collections \n",
    "\n",
    "from ast import literal_eval\n",
    "from gensim.models.doc2vec import Doc2Vec, TaggedDocument\n",
    "from collections import namedtuple\n",
    "from scipy import spatial\n",
    "from sklearn.metrics.pairwise import cosine_similarity\n",
    "from  scipy import spatial\n",
    "from sklearn.preprocessing import scale, robust_scale, minmax_scale, maxabs_scale"
   ]
  },
  {
   "cell_type": "code",
   "execution_count": 2,
   "metadata": {},
   "outputs": [],
   "source": [
    "d2v_model = Doc2Vec.load('../model/word_embedding/Doc2vec_new_small2_4.model')"
   ]
  },
  {
   "cell_type": "markdown",
   "metadata": {},
   "source": [
    "# modeling"
   ]
  },
  {
   "cell_type": "markdown",
   "metadata": {},
   "source": [
    "### 데이터셋 불러오기"
   ]
  },
  {
   "cell_type": "code",
   "execution_count": 3,
   "metadata": {},
   "outputs": [],
   "source": [
    "final_list  = pd.read_excel('./new_data/final_list_score8.xlsx')\n",
    "inv_list  = pd.read_excel('./new_data/invest_df.xlsx')\n",
    "final_list.fillna('nan', inplace=True)\n",
    "final_list['token'] = final_list.token.apply(lambda x:literal_eval(x))"
   ]
  },
  {
   "cell_type": "code",
   "execution_count": 4,
   "metadata": {},
   "outputs": [],
   "source": [
    "final_list['invest'] = [str(x).split(',') for x in final_list['invest']]"
   ]
  },
  {
   "cell_type": "code",
   "execution_count": 5,
   "metadata": {},
   "outputs": [],
   "source": [
    "invest = list(set([el.strip() for el in final_list['invest'].sum()]))\n",
    "inv_list.set_index('invest', inplace=True)\n",
    "inv_list = inv_list.apply(minmax_scale)"
   ]
  },
  {
   "cell_type": "code",
   "execution_count": 6,
   "metadata": {},
   "outputs": [
    {
     "data": {
      "text/plain": [
       "(83, 9)"
      ]
     },
     "execution_count": 6,
     "metadata": {},
     "output_type": "execute_result"
    }
   ],
   "source": [
    "final_list.shape"
   ]
  },
  {
   "cell_type": "code",
   "execution_count": 7,
   "metadata": {
    "scrolled": true
   },
   "outputs": [],
   "source": [
    "inv_list = inv_list.where(inv_list > np.quantile(inv_list['invest_num'], 0.25), np.quantile(inv_list['invest_num'], 0.25))"
   ]
  },
  {
   "cell_type": "markdown",
   "metadata": {},
   "source": [
    "### Document vector"
   ]
  },
  {
   "cell_type": "code",
   "execution_count": 8,
   "metadata": {},
   "outputs": [],
   "source": [
    "paragraph_id = {k:v for k, v in enumerate(d2v_model.docvecs.doctags.keys())}\n",
    "doc_vec = {paragraph_id[k]:list(v) for k,v in enumerate(d2v_model.docvecs.vectors_docs)}"
   ]
  },
  {
   "cell_type": "code",
   "execution_count": 9,
   "metadata": {},
   "outputs": [
    {
     "name": "stdout",
     "output_type": "stream",
     "text": [
      "사이버에이전트벤처즈 코리아\n",
      " PIA\n",
      " Mission Capital\n",
      " GC녹십자Genome\n",
      " 스파크랩\n",
      " 데일리파트너스\n",
      " 원익\n",
      "옐로금융그룹\n",
      " KB인베스트먼트\n",
      " 한화인베스트먼트\n",
      "옐로우독\n",
      " 콜라보레이티브펀드\n",
      " 알토스벤처스\n",
      "현대기술투자\n",
      " 비씨카드(BC카드)\n",
      " UTC인베스트먼트\n",
      " 스마일게이트인베스트먼트\n",
      " 미래에셋벤처투자\n",
      " KT인베스트먼트\n",
      " 미래에셋벤처투자\n",
      "카이트창업가재단\n",
      "킹슬리 벤처스\n",
      " GS홈쇼핑\n",
      " DS앤파트너스\n",
      " 뮤렉스파트너스\n",
      " 아이디지캐피탈파트너스코리아\n",
      " 케이비인베스트먼트\n",
      " 아이디벤처스\n",
      " 현대자동차 제로원엑셀러레이터\n",
      "케이비인베스트먼트\n",
      "에이티넘인베스트먼트\n",
      " 신용보증기금 경기스타트업지점\n",
      " 헤시드\n"
     ]
    }
   ],
   "source": [
    "inv_tech_df = pd.DataFrame(columns = ['investor', 'tech', 'weights', 'company'])\n",
    "for values_list in  final_list[['company', 'predicted_small_label1', 'predicted_small_label2', 'invest']].values:\n",
    "#     print(values_list)\n",
    "    for com in values_list[-1]:\n",
    "#         print(com)\n",
    "        if com.strip() in ['nan', '비공개', '크라우드펀딩', '사모펀드']:\n",
    "            continue\n",
    "        else:\n",
    "            try:\n",
    "                weights = inv_list.loc[com.strip()].values[0]\n",
    "                inv_tech_df = inv_tech_df.append({'investor':com.strip(), 'tech':values_list[1], 'weights':weights, 'company':values_list[0]}, \\\n",
    "                                                 ignore_index=True)\n",
    "            except KeyError:\n",
    "                print(com)\n",
    "                continue"
   ]
  },
  {
   "cell_type": "code",
   "execution_count": 10,
   "metadata": {},
   "outputs": [],
   "source": [
    "inv = list(inv_list.index)\n",
    "inv_idx = [\"i%s\" % str(i).zfill(3) for i in range(1,len(inv_list.index)+1)]\n",
    "inv_node = pd.DataFrame({'node':inv,'node_idx':inv_idx})"
   ]
  },
  {
   "cell_type": "code",
   "execution_count": 11,
   "metadata": {},
   "outputs": [],
   "source": [
    "inv_tech_df.rename(columns={'investor':'node'}, inplace=True)"
   ]
  },
  {
   "cell_type": "code",
   "execution_count": 12,
   "metadata": {},
   "outputs": [],
   "source": [
    "inv_tech_df.to_excel('./last2/investor_graph.xlsx', index=False, encoding='cp949')"
   ]
  },
  {
   "cell_type": "markdown",
   "metadata": {},
   "source": [
    "### 네트워크"
   ]
  },
  {
   "cell_type": "code",
   "execution_count": 13,
   "metadata": {},
   "outputs": [],
   "source": [
    "def network_score(G) :\n",
    "    tt =  { \"degree\":dict(G.degree()), \n",
    "            \"degree_centrality\":nx.degree_centrality(G), #normalized degree, degree가 클수록 높음\n",
    "            \"closeness_centrality\":nx.closeness_centrality(G), \n",
    "            \"betweenness_centrality\":nx.betweenness_centrality(G), \n",
    "            \"pagerank\":nx.pagerank(G)}\n",
    "    tt_df = pd.DataFrame(tt)\n",
    "    tt_df['node'] = list(tt_df.index)\n",
    "    tt_df = pd.merge(tt_df,node_df,how='left')\n",
    "    return tt_df"
   ]
  },
  {
   "cell_type": "code",
   "execution_count": 14,
   "metadata": {},
   "outputs": [],
   "source": [
    "small_label = list(set(final_list.predicted_small_label1.tolist() + final_list.predicted_small_label2.tolist()))\n",
    "small_label = [label for label in small_label if label != 'nan']\n",
    "comb_dv = list(itertools.combinations(small_label,2))"
   ]
  },
  {
   "cell_type": "code",
   "execution_count": 15,
   "metadata": {},
   "outputs": [
    {
     "name": "stdout",
     "output_type": "stream",
     "text": [
      "Wall time: 453 ms\n"
     ]
    }
   ],
   "source": [
    "%%time\n",
    "tech_similarity_list = list()\n",
    "tech_mat = pd.DataFrame(index=small_label, columns=small_label)\n",
    "for comb1, comb2 in comb_dv:\n",
    "    cos_sim = cosine_similarity([doc_vec[comb1]], [doc_vec[comb2]])[0][0]\n",
    "    tech_mat.loc[comb1,comb2] = cos_sim\n",
    "    tech_mat.loc[comb2,comb1] = cos_sim\n",
    "    tech_similarity_list.append(cos_sim)\n",
    "tech_mat2 = tech_mat.where(tech_mat > 0.13, 0.0)\n",
    "tech_mat3 = tech_mat2.where(tech_mat2 == 0, 1)"
   ]
  },
  {
   "cell_type": "code",
   "execution_count": 16,
   "metadata": {},
   "outputs": [],
   "source": [
    "t_edge_df = pd.DataFrame(columns= ['source', 'target', 'weights'])\n",
    "for idx, comb in enumerate(comb_dv):\n",
    "    edge =tech_mat3.loc[comb[0], comb[1]]\n",
    "    if edge == 0.0:\n",
    "        continue\n",
    "    else:\n",
    "        weight = tech_mat2.loc[comb[0], comb[1]]\n",
    "        t_edge_df = t_edge_df.append({'source':comb[0], 'target':comb[1], 'weights':weight}, ignore_index=True)\n",
    "t_edge = [tuple(element) for element in t_edge_df.values]"
   ]
  },
  {
   "cell_type": "code",
   "execution_count": 17,
   "metadata": {},
   "outputs": [
    {
     "data": {
      "text/plain": [
       "[('생체유래 물질 분석 시스템', 'e-커머스 플랫폼', 0.14609941840171814),\n",
       " ('생체유래 물질 분석 시스템', '분자진단', 0.19310154020786285),\n",
       " ('생체신호 측정진단기기', '인지과학 SW', 0.15659192204475403),\n",
       " ('동영상 미디어 플랫폼', '영상콘텐츠', 0.15523482859134674),\n",
       " ('인간-인공지능 협업 시스템', '자산관리 서비스', 0.2407730370759964),\n",
       " ('인간-인공지능 협업 시스템', 'SNS 플랫폼', 0.14065206050872803),\n",
       " ('개인 맞춤형 건강관리 기기 및 플랫폼', '스마트 헬스 데이터 분석', 0.13513311743736267),\n",
       " ('크라우드펀딩', '빅데이터 기반 SW', 0.13307346403598785),\n",
       " ('크라우드펀딩', '건강정보케어 서비스', 0.13781927525997162),\n",
       " ('데이터 3D 변환 시각화 도구', '빅데이터 분석 및 시각화 플랫폼', 0.1488972306251526),\n",
       " ('면역화학진단', '분자진단', 0.21076862514019012),\n",
       " ('면역화학진단', 'Robotic Process Automation', 0.14846941828727722),\n",
       " ('면역화학진단', '음성인식 시스템', 0.1301812380552292),\n",
       " ('모바일 핀테크 보안', '인지과학 SW', 0.1420866847038269),\n",
       " ('모바일 핀테크 보안', '건강정보케어 서비스', 0.1692826747894287),\n",
       " ('지능형 O2O 서비스 데이터 분석 시스템', '외래관광객용 관광 O2O 서비스', 0.14467081427574158),\n",
       " ('실시간 건강관리 시스템', '건강정보케어 서비스', 0.44034552574157715),\n",
       " ('게임 플랫폼', '국내외 간편송금 및 결제', 0.13850168883800507),\n",
       " ('인지과학 SW', '건강정보케어 서비스', 0.15813273191452026),\n",
       " ('개인건강기록 시스템PHR', '헬스케어 디자인', 0.15630663931369781),\n",
       " ('개인건강기록 시스템PHR', '의료정보관리 플랫폼', 0.17124956846237183),\n",
       " ('헬스케어 디자인', '자연어 처리기반 텍스트 마이닝', 0.13129249215126038),\n",
       " ('자산관리 서비스', 'Robotic Process Automation', 0.1859423667192459),\n",
       " ('자산관리 서비스', '인공지능 기반 SW', 0.1524011194705963)]"
      ]
     },
     "execution_count": 17,
     "metadata": {},
     "output_type": "execute_result"
    }
   ],
   "source": [
    "t_edge"
   ]
  },
  {
   "cell_type": "code",
   "execution_count": 18,
   "metadata": {
    "scrolled": true
   },
   "outputs": [
    {
     "name": "stdout",
     "output_type": "stream",
     "text": [
      "(주)위즈벤처스 스마트토이\n",
      "스마트토이 베이글랩스\n",
      "트래블플랜 먼치팩토리\n",
      "제노플랜 뷰티패스\n",
      "렌딧 펀다\n",
      "펀다 굳센컴퍼니\n",
      "텍스트팩토리 쉐어트리츠\n",
      "매스프레소 알고리마\n",
      "클래스101 서큘러스\n",
      "트위니 마스터지지\n",
      "데이터앤애널리틱스 캐치잇플레이\n",
      "밍글 하우투비즈랩\n",
      "스켈터랩스 콴텍\n",
      "티엔디엔 머지홀딩스\n",
      "액션파워 바오바브코리아\n",
      "베이글랩스 바이트\n",
      "휴먼스케이프 리턴박스\n",
      "뉴로핏 바오바브코리아\n",
      "콴텍 (주)블루웨일컴퍼니\n",
      "에임 마스터지지\n",
      "올핀 하우투비즈랩\n",
      "머니브레인 쉐어트리츠\n",
      "바오바브코리아 루티헬스\n",
      "플레인베이글 뷰티패스\n",
      "마켓잇 페이플\n",
      "먼치팩토리 ERGO\n",
      "알고리즘랩스 머지홀딩스\n",
      "아모랩 브이픽스메디칼\n",
      "닥터다이어리 비링크헬스케어\n",
      "리턴박스 (주)블루웨일컴퍼니\n",
      "메디픽셀 하우투비즈랩\n",
      "딥네츄럴 베드라디오\n",
      "스터디짐 페이플\n",
      "소셜클럽 바이트\n",
      "베드라디오 알고리마\n",
      "Wall time: 48.1 s\n"
     ]
    }
   ],
   "source": [
    "%%time\n",
    "company = list(final_list['company'])\n",
    "company_idx = [\"c%s\" % str(i).zfill(2) for i in range(1,len(company)+1)]\n",
    "node_df = pd.DataFrame({'node':company,'node_idx':company_idx, 'token':final_list.token.tolist()})\n",
    "sim_sentence = pd.DataFrame(columns=company, index=company)\n",
    "comb_c = list(itertools.combinations(node_df.node.tolist(),2))\n",
    "similarity_list = list()\n",
    "for idx,comb in enumerate(comb_c):\n",
    "    if idx % 100 == 0:\n",
    "        print(comb[0], comb[1])\n",
    "    sent1 = node_df.loc[node_df.node == comb[0], 'token'].values[0]\n",
    "    sent2 = node_df.loc[node_df.node == comb[1], 'token'].values[0]\n",
    "    sent1_vector = d2v_model.infer_vector(sent1)\n",
    "    sent2_vector = d2v_model.infer_vector(sent2)\n",
    "    sim_sentence.loc[comb[0], comb[1]] = cosine_similarity([sent1_vector], [sent2_vector])[0][0]\n",
    "    sim_sentence.loc[comb[1], comb[0]] = cosine_similarity([sent2_vector], [sent1_vector])[0][0]\n",
    "    similarity_list.append(cosine_similarity([sent1_vector], [sent2_vector])[0][0])\n",
    "sim_sentence2 = sim_sentence.where(sim_sentence > np.quantile(similarity_list, 0.90), 0.0)\n",
    "sim_sentence3 = sim_sentence2.where(sim_sentence2 == 0, 1)"
   ]
  },
  {
   "cell_type": "code",
   "execution_count": 19,
   "metadata": {},
   "outputs": [
    {
     "data": {
      "text/html": [
       "<div>\n",
       "<style scoped>\n",
       "    .dataframe tbody tr th:only-of-type {\n",
       "        vertical-align: middle;\n",
       "    }\n",
       "\n",
       "    .dataframe tbody tr th {\n",
       "        vertical-align: top;\n",
       "    }\n",
       "\n",
       "    .dataframe thead th {\n",
       "        text-align: right;\n",
       "    }\n",
       "</style>\n",
       "<table border=\"1\" class=\"dataframe\">\n",
       "  <thead>\n",
       "    <tr style=\"text-align: right;\">\n",
       "      <th></th>\n",
       "      <th>(주)위즈벤처스</th>\n",
       "      <th>스마트토이</th>\n",
       "      <th>트래블플랜</th>\n",
       "      <th>제노플랜</th>\n",
       "      <th>어니스트펀드</th>\n",
       "      <th>렌딧</th>\n",
       "      <th>펀다</th>\n",
       "      <th>텍스트팩토리</th>\n",
       "      <th>매스프레소</th>\n",
       "      <th>주식회사 날비컴퍼니</th>\n",
       "      <th>...</th>\n",
       "      <th>슈퍼브에이아이</th>\n",
       "      <th>패스트비코리아</th>\n",
       "      <th>비링크헬스케어</th>\n",
       "      <th>(주)블루웨일컴퍼니</th>\n",
       "      <th>주식회사 셰어킴</th>\n",
       "      <th>아이팩토리</th>\n",
       "      <th>보이스루</th>\n",
       "      <th>베드라디오</th>\n",
       "      <th>알고리마</th>\n",
       "      <th>NICE비즈니스플랫폼</th>\n",
       "    </tr>\n",
       "  </thead>\n",
       "  <tbody>\n",
       "    <tr>\n",
       "      <th>(주)위즈벤처스</th>\n",
       "      <td>0</td>\n",
       "      <td>0</td>\n",
       "      <td>0</td>\n",
       "      <td>0</td>\n",
       "      <td>0</td>\n",
       "      <td>0</td>\n",
       "      <td>0</td>\n",
       "      <td>0</td>\n",
       "      <td>0</td>\n",
       "      <td>0</td>\n",
       "      <td>...</td>\n",
       "      <td>0</td>\n",
       "      <td>0</td>\n",
       "      <td>0</td>\n",
       "      <td>0</td>\n",
       "      <td>0</td>\n",
       "      <td>0</td>\n",
       "      <td>0</td>\n",
       "      <td>0</td>\n",
       "      <td>0</td>\n",
       "      <td>0</td>\n",
       "    </tr>\n",
       "    <tr>\n",
       "      <th>스마트토이</th>\n",
       "      <td>0</td>\n",
       "      <td>0</td>\n",
       "      <td>0</td>\n",
       "      <td>0</td>\n",
       "      <td>0</td>\n",
       "      <td>0</td>\n",
       "      <td>0</td>\n",
       "      <td>0</td>\n",
       "      <td>0</td>\n",
       "      <td>0</td>\n",
       "      <td>...</td>\n",
       "      <td>0</td>\n",
       "      <td>0</td>\n",
       "      <td>0</td>\n",
       "      <td>0</td>\n",
       "      <td>0</td>\n",
       "      <td>0</td>\n",
       "      <td>0</td>\n",
       "      <td>0</td>\n",
       "      <td>0</td>\n",
       "      <td>0</td>\n",
       "    </tr>\n",
       "    <tr>\n",
       "      <th>트래블플랜</th>\n",
       "      <td>0</td>\n",
       "      <td>0</td>\n",
       "      <td>0</td>\n",
       "      <td>0</td>\n",
       "      <td>1</td>\n",
       "      <td>0</td>\n",
       "      <td>0</td>\n",
       "      <td>0</td>\n",
       "      <td>0</td>\n",
       "      <td>0</td>\n",
       "      <td>...</td>\n",
       "      <td>0</td>\n",
       "      <td>1</td>\n",
       "      <td>0</td>\n",
       "      <td>1</td>\n",
       "      <td>0</td>\n",
       "      <td>0</td>\n",
       "      <td>0</td>\n",
       "      <td>0</td>\n",
       "      <td>1</td>\n",
       "      <td>0</td>\n",
       "    </tr>\n",
       "    <tr>\n",
       "      <th>제노플랜</th>\n",
       "      <td>0</td>\n",
       "      <td>0</td>\n",
       "      <td>0</td>\n",
       "      <td>0</td>\n",
       "      <td>1</td>\n",
       "      <td>0</td>\n",
       "      <td>0</td>\n",
       "      <td>0</td>\n",
       "      <td>0</td>\n",
       "      <td>0</td>\n",
       "      <td>...</td>\n",
       "      <td>0</td>\n",
       "      <td>0</td>\n",
       "      <td>1</td>\n",
       "      <td>0</td>\n",
       "      <td>1</td>\n",
       "      <td>0</td>\n",
       "      <td>0</td>\n",
       "      <td>0</td>\n",
       "      <td>0</td>\n",
       "      <td>0</td>\n",
       "    </tr>\n",
       "    <tr>\n",
       "      <th>어니스트펀드</th>\n",
       "      <td>0</td>\n",
       "      <td>0</td>\n",
       "      <td>1</td>\n",
       "      <td>1</td>\n",
       "      <td>0</td>\n",
       "      <td>0</td>\n",
       "      <td>1</td>\n",
       "      <td>0</td>\n",
       "      <td>0</td>\n",
       "      <td>0</td>\n",
       "      <td>...</td>\n",
       "      <td>0</td>\n",
       "      <td>0</td>\n",
       "      <td>0</td>\n",
       "      <td>0</td>\n",
       "      <td>1</td>\n",
       "      <td>0</td>\n",
       "      <td>0</td>\n",
       "      <td>0</td>\n",
       "      <td>1</td>\n",
       "      <td>0</td>\n",
       "    </tr>\n",
       "    <tr>\n",
       "      <th>...</th>\n",
       "      <td>...</td>\n",
       "      <td>...</td>\n",
       "      <td>...</td>\n",
       "      <td>...</td>\n",
       "      <td>...</td>\n",
       "      <td>...</td>\n",
       "      <td>...</td>\n",
       "      <td>...</td>\n",
       "      <td>...</td>\n",
       "      <td>...</td>\n",
       "      <td>...</td>\n",
       "      <td>...</td>\n",
       "      <td>...</td>\n",
       "      <td>...</td>\n",
       "      <td>...</td>\n",
       "      <td>...</td>\n",
       "      <td>...</td>\n",
       "      <td>...</td>\n",
       "      <td>...</td>\n",
       "      <td>...</td>\n",
       "      <td>...</td>\n",
       "    </tr>\n",
       "    <tr>\n",
       "      <th>아이팩토리</th>\n",
       "      <td>0</td>\n",
       "      <td>0</td>\n",
       "      <td>0</td>\n",
       "      <td>0</td>\n",
       "      <td>0</td>\n",
       "      <td>0</td>\n",
       "      <td>0</td>\n",
       "      <td>0</td>\n",
       "      <td>0</td>\n",
       "      <td>0</td>\n",
       "      <td>...</td>\n",
       "      <td>0</td>\n",
       "      <td>0</td>\n",
       "      <td>0</td>\n",
       "      <td>0</td>\n",
       "      <td>0</td>\n",
       "      <td>0</td>\n",
       "      <td>1</td>\n",
       "      <td>0</td>\n",
       "      <td>0</td>\n",
       "      <td>0</td>\n",
       "    </tr>\n",
       "    <tr>\n",
       "      <th>보이스루</th>\n",
       "      <td>0</td>\n",
       "      <td>0</td>\n",
       "      <td>0</td>\n",
       "      <td>0</td>\n",
       "      <td>0</td>\n",
       "      <td>0</td>\n",
       "      <td>0</td>\n",
       "      <td>0</td>\n",
       "      <td>0</td>\n",
       "      <td>0</td>\n",
       "      <td>...</td>\n",
       "      <td>0</td>\n",
       "      <td>1</td>\n",
       "      <td>0</td>\n",
       "      <td>0</td>\n",
       "      <td>0</td>\n",
       "      <td>1</td>\n",
       "      <td>0</td>\n",
       "      <td>0</td>\n",
       "      <td>1</td>\n",
       "      <td>0</td>\n",
       "    </tr>\n",
       "    <tr>\n",
       "      <th>베드라디오</th>\n",
       "      <td>0</td>\n",
       "      <td>0</td>\n",
       "      <td>0</td>\n",
       "      <td>0</td>\n",
       "      <td>0</td>\n",
       "      <td>0</td>\n",
       "      <td>0</td>\n",
       "      <td>0</td>\n",
       "      <td>0</td>\n",
       "      <td>0</td>\n",
       "      <td>...</td>\n",
       "      <td>0</td>\n",
       "      <td>0</td>\n",
       "      <td>0</td>\n",
       "      <td>0</td>\n",
       "      <td>0</td>\n",
       "      <td>0</td>\n",
       "      <td>0</td>\n",
       "      <td>0</td>\n",
       "      <td>0</td>\n",
       "      <td>0</td>\n",
       "    </tr>\n",
       "    <tr>\n",
       "      <th>알고리마</th>\n",
       "      <td>0</td>\n",
       "      <td>0</td>\n",
       "      <td>1</td>\n",
       "      <td>0</td>\n",
       "      <td>1</td>\n",
       "      <td>0</td>\n",
       "      <td>0</td>\n",
       "      <td>0</td>\n",
       "      <td>1</td>\n",
       "      <td>0</td>\n",
       "      <td>...</td>\n",
       "      <td>1</td>\n",
       "      <td>0</td>\n",
       "      <td>1</td>\n",
       "      <td>0</td>\n",
       "      <td>0</td>\n",
       "      <td>0</td>\n",
       "      <td>1</td>\n",
       "      <td>0</td>\n",
       "      <td>0</td>\n",
       "      <td>0</td>\n",
       "    </tr>\n",
       "    <tr>\n",
       "      <th>NICE비즈니스플랫폼</th>\n",
       "      <td>0</td>\n",
       "      <td>0</td>\n",
       "      <td>0</td>\n",
       "      <td>0</td>\n",
       "      <td>0</td>\n",
       "      <td>0</td>\n",
       "      <td>1</td>\n",
       "      <td>0</td>\n",
       "      <td>0</td>\n",
       "      <td>0</td>\n",
       "      <td>...</td>\n",
       "      <td>0</td>\n",
       "      <td>0</td>\n",
       "      <td>0</td>\n",
       "      <td>0</td>\n",
       "      <td>1</td>\n",
       "      <td>0</td>\n",
       "      <td>0</td>\n",
       "      <td>0</td>\n",
       "      <td>0</td>\n",
       "      <td>0</td>\n",
       "    </tr>\n",
       "  </tbody>\n",
       "</table>\n",
       "<p>83 rows × 83 columns</p>\n",
       "</div>"
      ],
      "text/plain": [
       "            (주)위즈벤처스 스마트토이 트래블플랜 제노플랜 어니스트펀드 렌딧 펀다 텍스트팩토리 매스프레소 주식회사 날비컴퍼니  \\\n",
       "(주)위즈벤처스           0     0     0    0      0  0  0      0     0          0   \n",
       "스마트토이              0     0     0    0      0  0  0      0     0          0   \n",
       "트래블플랜              0     0     0    0      1  0  0      0     0          0   \n",
       "제노플랜               0     0     0    0      1  0  0      0     0          0   \n",
       "어니스트펀드             0     0     1    1      0  0  1      0     0          0   \n",
       "...              ...   ...   ...  ...    ... .. ..    ...   ...        ...   \n",
       "아이팩토리              0     0     0    0      0  0  0      0     0          0   \n",
       "보이스루               0     0     0    0      0  0  0      0     0          0   \n",
       "베드라디오              0     0     0    0      0  0  0      0     0          0   \n",
       "알고리마               0     0     1    0      1  0  0      0     1          0   \n",
       "NICE비즈니스플랫폼        0     0     0    0      0  0  1      0     0          0   \n",
       "\n",
       "             ... 슈퍼브에이아이 패스트비코리아 비링크헬스케어 (주)블루웨일컴퍼니 주식회사 셰어킴 아이팩토리 보이스루 베드라디오  \\\n",
       "(주)위즈벤처스     ...       0       0       0          0        0     0    0     0   \n",
       "스마트토이        ...       0       0       0          0        0     0    0     0   \n",
       "트래블플랜        ...       0       1       0          1        0     0    0     0   \n",
       "제노플랜         ...       0       0       1          0        1     0    0     0   \n",
       "어니스트펀드       ...       0       0       0          0        1     0    0     0   \n",
       "...          ...     ...     ...     ...        ...      ...   ...  ...   ...   \n",
       "아이팩토리        ...       0       0       0          0        0     0    1     0   \n",
       "보이스루         ...       0       1       0          0        0     1    0     0   \n",
       "베드라디오        ...       0       0       0          0        0     0    0     0   \n",
       "알고리마         ...       1       0       1          0        0     0    1     0   \n",
       "NICE비즈니스플랫폼  ...       0       0       0          0        1     0    0     0   \n",
       "\n",
       "            알고리마 NICE비즈니스플랫폼  \n",
       "(주)위즈벤처스       0           0  \n",
       "스마트토이          0           0  \n",
       "트래블플랜          1           0  \n",
       "제노플랜           0           0  \n",
       "어니스트펀드         1           0  \n",
       "...          ...         ...  \n",
       "아이팩토리          0           0  \n",
       "보이스루           1           0  \n",
       "베드라디오          0           0  \n",
       "알고리마           0           0  \n",
       "NICE비즈니스플랫폼    0           0  \n",
       "\n",
       "[83 rows x 83 columns]"
      ]
     },
     "execution_count": 19,
     "metadata": {},
     "output_type": "execute_result"
    }
   ],
   "source": [
    "sim_sentence3"
   ]
  },
  {
   "cell_type": "code",
   "execution_count": 20,
   "metadata": {},
   "outputs": [],
   "source": [
    "edge_df = pd.DataFrame(columns= ['source', 'target', 'weights'])\n",
    "for idx,comb in enumerate(comb_c):\n",
    "    edge =sim_sentence3.loc[comb[0], comb[1]]\n",
    "    if edge == 0.0:\n",
    "        continue\n",
    "    else:\n",
    "        weight = sim_sentence2.loc[comb[0], comb[1]]\n",
    "        edge_df = edge_df.append({'source':comb[0], 'target':comb[1], 'weights':weight}, ignore_index=True)\n",
    "c_edge = [tuple(element) for element in edge_df.values]"
   ]
  },
  {
   "cell_type": "code",
   "execution_count": 21,
   "metadata": {},
   "outputs": [],
   "source": [
    "small = list(set(list(final_list['predicted_small_label1']) + list(final_list['predicted_small_label2'])))\n",
    "small_idx = [\"s%s\" % str(i).zfill(2) for i in range(1,len(small)+1)]\n",
    "small_node = pd.DataFrame({'node':small,'node_idx':small_idx})\n",
    "node_df = node_df.append(pd.DataFrame(data=small_node),ignore_index=True)"
   ]
  },
  {
   "cell_type": "code",
   "execution_count": 22,
   "metadata": {},
   "outputs": [
    {
     "name": "stdout",
     "output_type": "stream",
     "text": [
      "리턴박스\n",
      "쉐어트리츠\n",
      "스터디짐\n",
      "이콜트리\n",
      "바이트\n",
      "아이팩토리\n"
     ]
    }
   ],
   "source": [
    "s_edge = []\n",
    "for i in range(len(final_list)):\n",
    "    company = final_list['company'][i]\n",
    "    small1 = final_list['predicted_small_label1'][i]\n",
    "    if small1 == 'nan':\n",
    "        print(company)\n",
    "    else:\n",
    "        s_edge.append((small1, company,1))\n",
    "    small2 = final_list['predicted_small_label2'][i]\n",
    "    if small2 == 'nan':\n",
    "        print(company)\n",
    "    else:\n",
    "        s_edge.append((small2, company,1))"
   ]
  },
  {
   "cell_type": "code",
   "execution_count": 39,
   "metadata": {},
   "outputs": [],
   "source": [
    "company_tech = final_list[['company','predicted_label1','predicted_label2', 'predicted_small_label1', 'predicted_small_label2']]\n",
    "company_tech.rename(columns={'company':'node'}, inplace=True)"
   ]
  },
  {
   "cell_type": "code",
   "execution_count": 40,
   "metadata": {},
   "outputs": [],
   "source": [
    "node_df = node_df.append(pd.DataFrame(data=inv_node),ignore_index=True)\n",
    "node_df.to_excel('./last2/new_node_df.xlsx', index=False, encoding='cp949')"
   ]
  },
  {
   "cell_type": "code",
   "execution_count": 41,
   "metadata": {},
   "outputs": [],
   "source": [
    "i_edge = [(el[0], el[3],float(el[2])) for el in inv_tech_df.values]"
   ]
  },
  {
   "cell_type": "code",
   "execution_count": 42,
   "metadata": {},
   "outputs": [],
   "source": [
    "total_edge = c_edge+s_edge+i_edge"
   ]
  },
  {
   "cell_type": "code",
   "execution_count": 43,
   "metadata": {},
   "outputs": [],
   "source": [
    "network_df = pd.DataFrame(total_edge, columns=['Source', 'Target', 'Weight'])"
   ]
  },
  {
   "cell_type": "code",
   "execution_count": 44,
   "metadata": {},
   "outputs": [],
   "source": [
    "network_df.to_csv('./last2/gephi/gephi_edge.csv', index=False, encoding='utf-8')"
   ]
  },
  {
   "cell_type": "code",
   "execution_count": 45,
   "metadata": {},
   "outputs": [
    {
     "data": {
      "text/plain": [
       "Source    0\n",
       "Target    0\n",
       "Weight    0\n",
       "dtype: int64"
      ]
     },
     "execution_count": 45,
     "metadata": {},
     "output_type": "execute_result"
    }
   ],
   "source": [
    "network_df.isnull().sum()"
   ]
  },
  {
   "cell_type": "code",
   "execution_count": 46,
   "metadata": {},
   "outputs": [],
   "source": [
    "total_edge2 = c_edge+s_edge+i_edge+t_edge"
   ]
  },
  {
   "cell_type": "code",
   "execution_count": 47,
   "metadata": {},
   "outputs": [],
   "source": [
    "network_df2 = pd.DataFrame(total_edge2, columns=['Source', 'Target', 'Weight'])"
   ]
  },
  {
   "cell_type": "code",
   "execution_count": 48,
   "metadata": {},
   "outputs": [],
   "source": [
    "network_df2.to_csv('./last2/gephi/gephi_edge(tech_connection).csv', index=False, encoding='utf-8')"
   ]
  },
  {
   "cell_type": "markdown",
   "metadata": {},
   "source": [
    "### Graph(T-C-I)"
   ]
  },
  {
   "cell_type": "code",
   "execution_count": 49,
   "metadata": {},
   "outputs": [],
   "source": [
    "nondirect_G = nx.Graph()\n",
    "nondirect_G.add_weighted_edges_from(c_edge+s_edge+i_edge)\n",
    "nondirect_score = network_score(nondirect_G)\n",
    "nondirect_score.to_excel('./last2/non_tech_connection/network_score.xlsx', index=False, encoding='cp949')"
   ]
  },
  {
   "cell_type": "code",
   "execution_count": 50,
   "metadata": {},
   "outputs": [],
   "source": [
    "searchfor = ['c', 'i']\n",
    "dict_tech_com = nondirect_score.loc[nondirect_score.node_idx.str.contains('|'.join(searchfor)), ['node', 'node_idx']].sort_values('node_idx')\n",
    "dict_tc = {k:v for k, v in zip(dict_tech_com['node'], dict_tech_com['node_idx'])}\n",
    "dict_tc2 = {v:k for k, v in zip(dict_tech_com['node'], dict_tech_com['node_idx'])}"
   ]
  },
  {
   "cell_type": "code",
   "execution_count": 51,
   "metadata": {},
   "outputs": [],
   "source": [
    "ns_df = nondirect_score[['node','node_idx', 'pagerank', 'closeness_centrality', 'betweenness_centrality']].sort_values('node_idx')\n",
    "ns_df['Weight'] = ns_df[['pagerank', 'closeness_centrality', 'betweenness_centrality']].sum(axis=1)\n",
    "ns_df = ns_df[['node','node_idx', 'Weight']].reset_index(drop=True)"
   ]
  },
  {
   "cell_type": "code",
   "execution_count": 52,
   "metadata": {},
   "outputs": [],
   "source": [
    "def class_allocation(x):\n",
    "    if x[0] == 'c':\n",
    "        return 'company'\n",
    "    elif x[0] == 's':\n",
    "        return 'technology'\n",
    "    elif x[0] == 'i':\n",
    "        return 'investor'"
   ]
  },
  {
   "cell_type": "code",
   "execution_count": 53,
   "metadata": {},
   "outputs": [],
   "source": [
    "ns_df['Attribute2'] = ns_df['node_idx'].apply(lambda x: class_allocation(x))\n",
    "ns_df.columns = ['ID', 'Attribute1', 'Weight', 'Attribute2']\n",
    "network_df.replace(dict_tc, inplace=True)\n",
    "network_df.to_csv('./last2/gephi/gephi_edge2.csv', index=False, encoding='utf-8')\n",
    "ns_df[['ID', 'Attribute1', 'Attribute2', 'Weight']].to_csv('./last2/gephi/gephi_node.csv', index=False, encoding='utf-8')"
   ]
  },
  {
   "cell_type": "code",
   "execution_count": 54,
   "metadata": {},
   "outputs": [],
   "source": [
    "ns_df['ID'] = ns_df.ID.replace(dict_tc)\n",
    "ns_df['Attribute1'] = ns_df.Attribute1.replace(dict_tc2)\n",
    "ns_df[['ID', 'Attribute1', 'Attribute2', 'Weight']].to_csv('./last2/gephi/gephi_node2.csv', index=False, encoding='utf-8')"
   ]
  },
  {
   "cell_type": "markdown",
   "metadata": {},
   "source": [
    "#### NTBF"
   ]
  },
  {
   "cell_type": "code",
   "execution_count": 55,
   "metadata": {},
   "outputs": [],
   "source": [
    "company_network_result = nondirect_score[nondirect_score['node_idx'].isin(company_idx)].sort_values([\"pagerank\"], ascending=[False])\n",
    "company_network_result['total_weight'] = company_network_result[['closeness_centrality','betweenness_centrality', 'pagerank']].sum(axis=1)\n",
    "company_network_result = company_network_result.sort_values([\"total_weight\"], ascending=[False]).reset_index(drop=True)\n",
    "company_network_result = pd.merge(company_network_result, company_tech)\n",
    "company_network_result.to_excel('./last2/non_tech_connection/company_network_result.xlsx', index=False, encoding='cp949')"
   ]
  },
  {
   "cell_type": "code",
   "execution_count": 56,
   "metadata": {},
   "outputs": [],
   "source": [
    "com_score1 = company_network_result.groupby('predicted_small_label1').mean()[['total_weight']].sort_values('total_weight', ascending=False)"
   ]
  },
  {
   "cell_type": "code",
   "execution_count": 57,
   "metadata": {},
   "outputs": [],
   "source": [
    "com_score2 = company_network_result.groupby('predicted_small_label2').mean()[['total_weight']].sort_values('total_weight', ascending=False)"
   ]
  },
  {
   "cell_type": "code",
   "execution_count": 58,
   "metadata": {},
   "outputs": [],
   "source": [
    "com_score2.rename(columns ={'total_weight':'total_weight2'}, inplace=True)"
   ]
  },
  {
   "cell_type": "code",
   "execution_count": 59,
   "metadata": {},
   "outputs": [],
   "source": [
    "total_index = list(set(com_score1.index.tolist() + com_score2.index.tolist()))"
   ]
  },
  {
   "cell_type": "code",
   "execution_count": 60,
   "metadata": {},
   "outputs": [],
   "source": [
    "company_total_df = pd.DataFrame(index=total_index)"
   ]
  },
  {
   "cell_type": "code",
   "execution_count": 61,
   "metadata": {},
   "outputs": [],
   "source": [
    "com_score1.index.name = None\n",
    "com_score2.index.name = None"
   ]
  },
  {
   "cell_type": "code",
   "execution_count": 62,
   "metadata": {},
   "outputs": [],
   "source": [
    "company_total_df = company_total_df.join(com_score1)\n",
    "company_total_df = company_total_df.join(com_score2)"
   ]
  },
  {
   "cell_type": "code",
   "execution_count": 63,
   "metadata": {},
   "outputs": [],
   "source": [
    "company_total_df.fillna(0, inplace=True)"
   ]
  },
  {
   "cell_type": "code",
   "execution_count": 64,
   "metadata": {},
   "outputs": [],
   "source": [
    "company_score = pd.DataFrame(company_total_df.mean(axis=1), columns=['total_weight']).sort_values('total_weight', ascending=False)"
   ]
  },
  {
   "cell_type": "code",
   "execution_count": 65,
   "metadata": {},
   "outputs": [],
   "source": [
    "company_score.to_excel('./last2/non_tech_connection/company_based_score.xlsx')"
   ]
  },
  {
   "cell_type": "markdown",
   "metadata": {},
   "source": [
    "#### Emerging Technology"
   ]
  },
  {
   "cell_type": "code",
   "execution_count": 66,
   "metadata": {},
   "outputs": [],
   "source": [
    "tech_network_result = nondirect_score[nondirect_score['node_idx'].isin(small_idx)].sort_values([\"pagerank\"], ascending=[False])\n",
    "tech_network_result['total_weight'] = tech_network_result[['closeness_centrality','betweenness_centrality', 'pagerank']].sum(axis=1)\n",
    "tech_network_result = tech_network_result.sort_values([\"total_weight\"], ascending=[False]).reset_index(drop=True)\n",
    "tech_network_result.to_excel('./last2/non_tech_connection/tech_network_result.xlsx', index=False, encoding='cp949')"
   ]
  },
  {
   "cell_type": "code",
   "execution_count": 67,
   "metadata": {},
   "outputs": [],
   "source": [
    "tech_network_result[['node', 'total_weight']].sort_values('total_weight', ascending=False).to_excel('./last2/non_tech_connection/emerging_tech.xlsx', index=False)"
   ]
  },
  {
   "cell_type": "code",
   "execution_count": 68,
   "metadata": {},
   "outputs": [],
   "source": [
    "tech_score = tech_network_result[['node', 'total_weight']].sort_values('total_weight', ascending=False).set_index('node')"
   ]
  },
  {
   "cell_type": "code",
   "execution_count": 69,
   "metadata": {},
   "outputs": [],
   "source": [
    "tech_score.index.name=None"
   ]
  },
  {
   "cell_type": "markdown",
   "metadata": {},
   "source": [
    "#### investor"
   ]
  },
  {
   "cell_type": "code",
   "execution_count": 70,
   "metadata": {},
   "outputs": [],
   "source": [
    "inv_network_result = nondirect_score[nondirect_score['node_idx'].isin(inv_idx)].sort_values([\"pagerank\"], ascending=[False])\n",
    "inv_network_result['total_weight'] = inv_network_result[['closeness_centrality','betweenness_centrality', 'pagerank']].sum(axis=1)\n",
    "inv_network_result = inv_network_result.sort_values([\"total_weight\"], ascending=[False]).reset_index(drop=True)\n",
    "inv_network_result = pd.merge(inv_network_result, inv_tech_df)\n",
    "inv_network_result.to_excel('./last2/non_tech_connection/inv_network_result.xlsx', index=False, encoding='cp949')"
   ]
  },
  {
   "cell_type": "code",
   "execution_count": 71,
   "metadata": {},
   "outputs": [],
   "source": [
    "inv_score = inv_network_result.groupby('tech').mean()[['total_weight']]"
   ]
  },
  {
   "cell_type": "code",
   "execution_count": 72,
   "metadata": {},
   "outputs": [],
   "source": [
    "inv_score.sort_values('total_weight', ascending=False).to_excel('./last2/non_tech_connection/inv_tech.xlsx')"
   ]
  },
  {
   "cell_type": "code",
   "execution_count": 73,
   "metadata": {},
   "outputs": [],
   "source": [
    "inv_score.index.name=None"
   ]
  },
  {
   "cell_type": "markdown",
   "metadata": {},
   "source": [
    "#### Total weight"
   ]
  },
  {
   "cell_type": "code",
   "execution_count": 74,
   "metadata": {},
   "outputs": [],
   "source": [
    "total_weight_index = list(set(company_score.index.tolist() + inv_score.index.tolist() + tech_network_result.node.tolist()))\n",
    "total_score = pd.DataFrame(index=total_weight_index)"
   ]
  },
  {
   "cell_type": "code",
   "execution_count": 75,
   "metadata": {},
   "outputs": [],
   "source": [
    "company_score.rename(columns={'total_weight':'NS'}, inplace=True)\n",
    "tech_score.rename(columns={'total_weight':'TS'}, inplace=True)\n",
    "inv_score.rename(columns={'total_weight':'IS'}, inplace=True)"
   ]
  },
  {
   "cell_type": "code",
   "execution_count": 76,
   "metadata": {},
   "outputs": [],
   "source": [
    "company_score.to_excel('./last2/non_tech_connection/NS.xlsx')\n",
    "tech_score.to_excel('./last2/non_tech_connection/TS.xlsx')\n",
    "inv_score.to_excel('./last2/non_tech_connection/IS.xlsx')"
   ]
  },
  {
   "cell_type": "code",
   "execution_count": 77,
   "metadata": {},
   "outputs": [],
   "source": [
    "total_score = total_score.join(company_score)\n",
    "total_score = total_score.join(tech_score)\n",
    "total_score = total_score.join(inv_score)"
   ]
  },
  {
   "cell_type": "code",
   "execution_count": 78,
   "metadata": {},
   "outputs": [],
   "source": [
    "total_score_df = pd.DataFrame(total_score.fillna(0).sum(axis=1), columns=['Total score']).sort_values('Total score', ascending=False)"
   ]
  },
  {
   "cell_type": "code",
   "execution_count": 79,
   "metadata": {},
   "outputs": [],
   "source": [
    "total_score_df.to_excel('./last2/non_tech_connection/TOS.xlsx')"
   ]
  },
  {
   "cell_type": "code",
   "execution_count": null,
   "metadata": {},
   "outputs": [],
   "source": []
  },
  {
   "cell_type": "code",
   "execution_count": null,
   "metadata": {},
   "outputs": [],
   "source": []
  },
  {
   "cell_type": "code",
   "execution_count": null,
   "metadata": {},
   "outputs": [],
   "source": []
  },
  {
   "cell_type": "code",
   "execution_count": null,
   "metadata": {},
   "outputs": [],
   "source": []
  },
  {
   "cell_type": "markdown",
   "metadata": {},
   "source": [
    "### Graph(T-C-I) - tech_connection"
   ]
  },
  {
   "cell_type": "code",
   "execution_count": 80,
   "metadata": {},
   "outputs": [],
   "source": [
    "nondirect_G2 = nx.Graph()\n",
    "nondirect_G2.add_weighted_edges_from(c_edge+s_edge+i_edge+t_edge)\n",
    "nondirect_score2 = network_score(nondirect_G2)\n",
    "nondirect_score2.to_excel('./last2/tech_connection/network_score.xlsx', index=False, encoding='cp949')"
   ]
  },
  {
   "cell_type": "code",
   "execution_count": 81,
   "metadata": {},
   "outputs": [
    {
     "data": {
      "text/html": [
       "<div>\n",
       "<style scoped>\n",
       "    .dataframe tbody tr th:only-of-type {\n",
       "        vertical-align: middle;\n",
       "    }\n",
       "\n",
       "    .dataframe tbody tr th {\n",
       "        vertical-align: top;\n",
       "    }\n",
       "\n",
       "    .dataframe thead th {\n",
       "        text-align: right;\n",
       "    }\n",
       "</style>\n",
       "<table border=\"1\" class=\"dataframe\">\n",
       "  <thead>\n",
       "    <tr style=\"text-align: right;\">\n",
       "      <th></th>\n",
       "      <th>degree</th>\n",
       "      <th>degree_centrality</th>\n",
       "      <th>closeness_centrality</th>\n",
       "      <th>betweenness_centrality</th>\n",
       "      <th>pagerank</th>\n",
       "      <th>node</th>\n",
       "      <th>node_idx</th>\n",
       "      <th>token</th>\n",
       "    </tr>\n",
       "  </thead>\n",
       "  <tbody>\n",
       "    <tr>\n",
       "      <th>0</th>\n",
       "      <td>10</td>\n",
       "      <td>0.047170</td>\n",
       "      <td>0.366149</td>\n",
       "      <td>0.013702</td>\n",
       "      <td>0.006245</td>\n",
       "      <td>(주)위즈벤처스</td>\n",
       "      <td>c01</td>\n",
       "      <td>[빅데이터, sns, 솔루션, 분석, 실시간, 소개, 본사, 사업목표, sns, 빅...</td>\n",
       "    </tr>\n",
       "    <tr>\n",
       "      <th>1</th>\n",
       "      <td>17</td>\n",
       "      <td>0.080189</td>\n",
       "      <td>0.384755</td>\n",
       "      <td>0.023576</td>\n",
       "      <td>0.008708</td>\n",
       "      <td>데이터앤애널리틱스</td>\n",
       "      <td>c14</td>\n",
       "      <td>[서비스, 웹서비스, 스타트업, 벤처캐피탈, 인공지능, ai, 머신러닝, 데이터분석...</td>\n",
       "    </tr>\n",
       "    <tr>\n",
       "      <th>2</th>\n",
       "      <td>16</td>\n",
       "      <td>0.075472</td>\n",
       "      <td>0.375887</td>\n",
       "      <td>0.028251</td>\n",
       "      <td>0.008910</td>\n",
       "      <td>티엔디엔</td>\n",
       "      <td>c18</td>\n",
       "      <td>[티엔디엔, 토스, 결제서비스, 여행, 서비스, 웹서비스, 마케팅, 소프트웨어, 플...</td>\n",
       "    </tr>\n",
       "    <tr>\n",
       "      <th>3</th>\n",
       "      <td>25</td>\n",
       "      <td>0.117925</td>\n",
       "      <td>0.428283</td>\n",
       "      <td>0.082150</td>\n",
       "      <td>0.012675</td>\n",
       "      <td>언더폭스</td>\n",
       "      <td>c33</td>\n",
       "      <td>[1인, 미디어, 후원, 플랫폼, 크리에이터, 소비, 비용, 부담, 시청자들, 후원...</td>\n",
       "    </tr>\n",
       "    <tr>\n",
       "      <th>4</th>\n",
       "      <td>14</td>\n",
       "      <td>0.066038</td>\n",
       "      <td>0.377897</td>\n",
       "      <td>0.020424</td>\n",
       "      <td>0.008346</td>\n",
       "      <td>딥네츄럴</td>\n",
       "      <td>c58</td>\n",
       "      <td>[대화, 인공지능, 데이터, 생산, 스타트업, 영화, 드라마, 등장, 주인공, 등장...</td>\n",
       "    </tr>\n",
       "    <tr>\n",
       "      <th>...</th>\n",
       "      <td>...</td>\n",
       "      <td>...</td>\n",
       "      <td>...</td>\n",
       "      <td>...</td>\n",
       "      <td>...</td>\n",
       "      <td>...</td>\n",
       "      <td>...</td>\n",
       "      <td>...</td>\n",
       "    </tr>\n",
       "    <tr>\n",
       "      <th>303</th>\n",
       "      <td>1</td>\n",
       "      <td>0.004717</td>\n",
       "      <td>0.269036</td>\n",
       "      <td>0.000000</td>\n",
       "      <td>0.000780</td>\n",
       "      <td>기술보증기금</td>\n",
       "      <td>i036</td>\n",
       "      <td>NaN</td>\n",
       "    </tr>\n",
       "    <tr>\n",
       "      <th>304</th>\n",
       "      <td>1</td>\n",
       "      <td>0.004717</td>\n",
       "      <td>0.288043</td>\n",
       "      <td>0.000000</td>\n",
       "      <td>0.000819</td>\n",
       "      <td>더인벤션랩</td>\n",
       "      <td>i035</td>\n",
       "      <td>NaN</td>\n",
       "    </tr>\n",
       "    <tr>\n",
       "      <th>305</th>\n",
       "      <td>1</td>\n",
       "      <td>0.004717</td>\n",
       "      <td>0.288043</td>\n",
       "      <td>0.000000</td>\n",
       "      <td>0.000819</td>\n",
       "      <td>더인벤션랩</td>\n",
       "      <td>i035</td>\n",
       "      <td>NaN</td>\n",
       "    </tr>\n",
       "    <tr>\n",
       "      <th>306</th>\n",
       "      <td>1</td>\n",
       "      <td>0.004717</td>\n",
       "      <td>0.235818</td>\n",
       "      <td>0.000000</td>\n",
       "      <td>0.000730</td>\n",
       "      <td>제주창조경제혁신센터</td>\n",
       "      <td>i109</td>\n",
       "      <td>NaN</td>\n",
       "    </tr>\n",
       "    <tr>\n",
       "      <th>307</th>\n",
       "      <td>1</td>\n",
       "      <td>0.004717</td>\n",
       "      <td>0.235818</td>\n",
       "      <td>0.000000</td>\n",
       "      <td>0.000730</td>\n",
       "      <td>제주창조경제혁신센터</td>\n",
       "      <td>i109</td>\n",
       "      <td>NaN</td>\n",
       "    </tr>\n",
       "  </tbody>\n",
       "</table>\n",
       "<p>308 rows × 8 columns</p>\n",
       "</div>"
      ],
      "text/plain": [
       "     degree  degree_centrality  closeness_centrality  betweenness_centrality  \\\n",
       "0        10           0.047170              0.366149                0.013702   \n",
       "1        17           0.080189              0.384755                0.023576   \n",
       "2        16           0.075472              0.375887                0.028251   \n",
       "3        25           0.117925              0.428283                0.082150   \n",
       "4        14           0.066038              0.377897                0.020424   \n",
       "..      ...                ...                   ...                     ...   \n",
       "303       1           0.004717              0.269036                0.000000   \n",
       "304       1           0.004717              0.288043                0.000000   \n",
       "305       1           0.004717              0.288043                0.000000   \n",
       "306       1           0.004717              0.235818                0.000000   \n",
       "307       1           0.004717              0.235818                0.000000   \n",
       "\n",
       "     pagerank        node node_idx  \\\n",
       "0    0.006245    (주)위즈벤처스      c01   \n",
       "1    0.008708   데이터앤애널리틱스      c14   \n",
       "2    0.008910        티엔디엔      c18   \n",
       "3    0.012675        언더폭스      c33   \n",
       "4    0.008346        딥네츄럴      c58   \n",
       "..        ...         ...      ...   \n",
       "303  0.000780      기술보증기금     i036   \n",
       "304  0.000819       더인벤션랩     i035   \n",
       "305  0.000819       더인벤션랩     i035   \n",
       "306  0.000730  제주창조경제혁신센터     i109   \n",
       "307  0.000730  제주창조경제혁신센터     i109   \n",
       "\n",
       "                                                 token  \n",
       "0    [빅데이터, sns, 솔루션, 분석, 실시간, 소개, 본사, 사업목표, sns, 빅...  \n",
       "1    [서비스, 웹서비스, 스타트업, 벤처캐피탈, 인공지능, ai, 머신러닝, 데이터분석...  \n",
       "2    [티엔디엔, 토스, 결제서비스, 여행, 서비스, 웹서비스, 마케팅, 소프트웨어, 플...  \n",
       "3    [1인, 미디어, 후원, 플랫폼, 크리에이터, 소비, 비용, 부담, 시청자들, 후원...  \n",
       "4    [대화, 인공지능, 데이터, 생산, 스타트업, 영화, 드라마, 등장, 주인공, 등장...  \n",
       "..                                                 ...  \n",
       "303                                                NaN  \n",
       "304                                                NaN  \n",
       "305                                                NaN  \n",
       "306                                                NaN  \n",
       "307                                                NaN  \n",
       "\n",
       "[308 rows x 8 columns]"
      ]
     },
     "execution_count": 81,
     "metadata": {},
     "output_type": "execute_result"
    }
   ],
   "source": [
    "nondirect_score2"
   ]
  },
  {
   "cell_type": "code",
   "execution_count": 82,
   "metadata": {},
   "outputs": [],
   "source": [
    "searchfor = ['c', 'i']\n",
    "dict_tech_com2 = nondirect_score2.loc[nondirect_score2.node_idx.str.contains('|'.join(searchfor)), ['node', 'node_idx']].sort_values('node_idx')\n",
    "dict_tc_1 = {k:v for k, v in zip(dict_tech_com2['node'], dict_tech_com2['node_idx'])}\n",
    "dict_tc2_1 = {v:k for k, v in zip(dict_tech_com2['node'], dict_tech_com2['node_idx'])}"
   ]
  },
  {
   "cell_type": "code",
   "execution_count": 83,
   "metadata": {},
   "outputs": [],
   "source": [
    "ns_df2 = nondirect_score2[['node','node_idx', 'pagerank', 'closeness_centrality', 'betweenness_centrality']].sort_values('node_idx')\n",
    "ns_df2['Weight'] = ns_df2[['pagerank', 'closeness_centrality', 'betweenness_centrality']].sum(axis=1)\n",
    "ns_df2 = ns_df2[['node','node_idx', 'Weight']].reset_index(drop=True)"
   ]
  },
  {
   "cell_type": "code",
   "execution_count": 84,
   "metadata": {},
   "outputs": [],
   "source": [
    "def class_allocation(x):\n",
    "    if x[0] == 'c':\n",
    "        return 'company'\n",
    "    elif x[0] == 's':\n",
    "        return 'technology'\n",
    "    elif x[0] == 'i':\n",
    "        return 'investor'"
   ]
  },
  {
   "cell_type": "code",
   "execution_count": 85,
   "metadata": {},
   "outputs": [],
   "source": [
    "ns_df2['Attribute2'] = ns_df2['node_idx'].apply(lambda x: class_allocation(x))\n",
    "ns_df2.columns = ['ID', 'Attribute1', 'Weight', 'Attribute2']\n",
    "network_df2.replace(dict_tc_1, inplace=True)\n",
    "network_df2.to_csv('./last2/gephi/gephi_edge2(tech_connection).csv', index=False, encoding='utf-8')\n",
    "ns_df2[['ID', 'Attribute1', 'Attribute2', 'Weight']].to_csv('./last2/gephi/gephi_node(tech_connection).csv', index=False, encoding='utf-8')"
   ]
  },
  {
   "cell_type": "code",
   "execution_count": 86,
   "metadata": {},
   "outputs": [],
   "source": [
    "ns_df2['ID'] = ns_df.ID.replace(dict_tc_1)\n",
    "ns_df2['Attribute1'] = ns_df.Attribute1.replace(dict_tc2_1)\n",
    "ns_df2[['ID', 'Attribute1', 'Attribute2', 'Weight']].to_csv('./last2/gephi/gephi_node2(tech_connection).csv', index=False, encoding='utf-8')"
   ]
  },
  {
   "cell_type": "markdown",
   "metadata": {},
   "source": [
    "#### NTBF"
   ]
  },
  {
   "cell_type": "code",
   "execution_count": 88,
   "metadata": {},
   "outputs": [],
   "source": [
    "company_network_result2 = nondirect_score2[nondirect_score2['node_idx'].isin(company_idx)].sort_values([\"pagerank\"], ascending=[False])\n",
    "company_network_result2['total_weight'] = company_network_result[['closeness_centrality','betweenness_centrality', 'pagerank']].sum(axis=1)\n",
    "company_network_result2 = company_network_result2.sort_values([\"total_weight\"], ascending=[False]).reset_index(drop=True)\n",
    "company_network_result2 = pd.merge(company_network_result2, company_tech)\n",
    "company_network_result2.to_excel('./last2/tech_connection/company_network_result.xlsx', index=False, encoding='cp949')"
   ]
  },
  {
   "cell_type": "code",
   "execution_count": 89,
   "metadata": {},
   "outputs": [],
   "source": [
    "com_score1 = company_network_result2.groupby('predicted_small_label1').mean()[['total_weight']].sort_values('total_weight', ascending=False)"
   ]
  },
  {
   "cell_type": "code",
   "execution_count": 90,
   "metadata": {},
   "outputs": [],
   "source": [
    "com_score2 = company_network_result2.groupby('predicted_small_label2').mean()[['total_weight']].sort_values('total_weight', ascending=False)"
   ]
  },
  {
   "cell_type": "code",
   "execution_count": 91,
   "metadata": {},
   "outputs": [],
   "source": [
    "com_score2.rename(columns ={'total_weight':'total_weight2'}, inplace=True)"
   ]
  },
  {
   "cell_type": "code",
   "execution_count": 92,
   "metadata": {},
   "outputs": [],
   "source": [
    "total_index = list(set(com_score1.index.tolist() + com_score2.index.tolist()))"
   ]
  },
  {
   "cell_type": "code",
   "execution_count": 93,
   "metadata": {},
   "outputs": [],
   "source": [
    "company_total_df2 = pd.DataFrame(index=total_index)"
   ]
  },
  {
   "cell_type": "code",
   "execution_count": 94,
   "metadata": {},
   "outputs": [],
   "source": [
    "com_score1.index.name = None\n",
    "com_score2.index.name = None"
   ]
  },
  {
   "cell_type": "code",
   "execution_count": 97,
   "metadata": {},
   "outputs": [],
   "source": [
    "company_total_df2 = company_total_df2.join(com_score1)\n",
    "company_total_df2 = company_total_df2.join(com_score2)"
   ]
  },
  {
   "cell_type": "code",
   "execution_count": 98,
   "metadata": {},
   "outputs": [],
   "source": [
    "company_total_df2.fillna(0, inplace=True)"
   ]
  },
  {
   "cell_type": "code",
   "execution_count": 102,
   "metadata": {},
   "outputs": [],
   "source": [
    "company_score2 = pd.DataFrame(company_total_df2.mean(axis=1), columns=['total_weight']).sort_values('total_weight', ascending=False)"
   ]
  },
  {
   "cell_type": "code",
   "execution_count": 103,
   "metadata": {},
   "outputs": [],
   "source": [
    "company_score2.to_excel('./last2/tech_connection/company_based_score.xlsx')"
   ]
  },
  {
   "cell_type": "markdown",
   "metadata": {},
   "source": [
    "#### Emerging Technology"
   ]
  },
  {
   "cell_type": "code",
   "execution_count": 104,
   "metadata": {},
   "outputs": [],
   "source": [
    "tech_network_result2 = nondirect_score2[nondirect_score2['node_idx'].isin(small_idx)].sort_values([\"pagerank\"], ascending=[False])\n",
    "tech_network_result2['total_weight'] = tech_network_result2[['closeness_centrality','betweenness_centrality', 'pagerank']].sum(axis=1)\n",
    "tech_network_result2 = tech_network_result2.sort_values([\"total_weight\"], ascending=[False]).reset_index(drop=True)\n",
    "tech_network_result2.to_excel('./last2/tech_connection/tech_network_result.xlsx', index=False, encoding='cp949')"
   ]
  },
  {
   "cell_type": "code",
   "execution_count": 105,
   "metadata": {},
   "outputs": [],
   "source": [
    "tech_network_result2[['node', 'total_weight']].sort_values('total_weight', ascending=False).to_excel('./last2/tech_connection/emerging_tech.xlsx', index=False)"
   ]
  },
  {
   "cell_type": "code",
   "execution_count": 106,
   "metadata": {},
   "outputs": [],
   "source": [
    "tech_score2 = tech_network_result2[['node', 'total_weight']].sort_values('total_weight', ascending=False).set_index('node')"
   ]
  },
  {
   "cell_type": "code",
   "execution_count": 107,
   "metadata": {},
   "outputs": [],
   "source": [
    "tech_score2.index.name=None"
   ]
  },
  {
   "cell_type": "markdown",
   "metadata": {},
   "source": [
    "#### investor"
   ]
  },
  {
   "cell_type": "code",
   "execution_count": 108,
   "metadata": {},
   "outputs": [],
   "source": [
    "inv_network_result2 = nondirect_score2[nondirect_score2['node_idx'].isin(inv_idx)].sort_values([\"pagerank\"], ascending=[False])\n",
    "inv_network_result2['total_weight'] = inv_network_result2[['closeness_centrality','betweenness_centrality', 'pagerank']].sum(axis=1)\n",
    "inv_network_result2 = inv_network_result2.sort_values([\"total_weight\"], ascending=[False]).reset_index(drop=True)\n",
    "inv_network_result2 = pd.merge(inv_network_result2, inv_tech_df)\n",
    "inv_network_result2.to_excel('./last2/tech_connection/inv_network_result.xlsx', index=False, encoding='cp949')"
   ]
  },
  {
   "cell_type": "code",
   "execution_count": 109,
   "metadata": {},
   "outputs": [],
   "source": [
    "inv_score2 = inv_network_result2.groupby('tech').mean()[['total_weight']]"
   ]
  },
  {
   "cell_type": "code",
   "execution_count": 110,
   "metadata": {},
   "outputs": [],
   "source": [
    "inv_score2.sort_values('total_weight', ascending=False).to_excel('./last2/tech_connection/inv_tech.xlsx')"
   ]
  },
  {
   "cell_type": "code",
   "execution_count": 111,
   "metadata": {},
   "outputs": [],
   "source": [
    "inv_score2.index.name=None"
   ]
  },
  {
   "cell_type": "markdown",
   "metadata": {},
   "source": [
    "#### Total weight"
   ]
  },
  {
   "cell_type": "code",
   "execution_count": 112,
   "metadata": {},
   "outputs": [],
   "source": [
    "total_weight_index2 = list(set(company_score2.index.tolist() + inv_score2.index.tolist() + tech_network_result2.node.tolist()))\n",
    "total_score2 = pd.DataFrame(index=total_weight_index2)"
   ]
  },
  {
   "cell_type": "code",
   "execution_count": 113,
   "metadata": {},
   "outputs": [],
   "source": [
    "company_score2.rename(columns={'total_weight':'NS'}, inplace=True)\n",
    "tech_score2.rename(columns={'total_weight':'TS'}, inplace=True)\n",
    "inv_score2.rename(columns={'total_weight':'IS'}, inplace=True)"
   ]
  },
  {
   "cell_type": "code",
   "execution_count": 114,
   "metadata": {},
   "outputs": [],
   "source": [
    "company_score2.to_excel('./last2/tech_connection/NS.xlsx')\n",
    "tech_score2.to_excel('./last2/tech_connection/TS.xlsx')\n",
    "inv_score2.to_excel('./last2/tech_connection/IS.xlsx')"
   ]
  },
  {
   "cell_type": "code",
   "execution_count": 115,
   "metadata": {},
   "outputs": [],
   "source": [
    "total_score2 = total_score2.join(company_score2)\n",
    "total_score2 = total_score2.join(tech_score2)\n",
    "total_score2 = total_score2.join(inv_score2)"
   ]
  },
  {
   "cell_type": "code",
   "execution_count": 116,
   "metadata": {},
   "outputs": [],
   "source": [
    "total_score_df2 = pd.DataFrame(total_score2.fillna(0).sum(axis=1), columns=['Total score']).sort_values('Total score', ascending=False)"
   ]
  },
  {
   "cell_type": "code",
   "execution_count": 117,
   "metadata": {},
   "outputs": [],
   "source": [
    "total_score_df2.to_excel('./last2/tech_connection/TOS.xlsx')"
   ]
  },
  {
   "cell_type": "code",
   "execution_count": null,
   "metadata": {},
   "outputs": [],
   "source": []
  }
 ],
 "metadata": {
  "kernelspec": {
   "display_name": "Python 3",
   "language": "python",
   "name": "python3"
  },
  "language_info": {
   "codemirror_mode": {
    "name": "ipython",
    "version": 3
   },
   "file_extension": ".py",
   "mimetype": "text/x-python",
   "name": "python",
   "nbconvert_exporter": "python",
   "pygments_lexer": "ipython3",
   "version": "3.7.6"
  }
 },
 "nbformat": 4,
 "nbformat_minor": 4
}
