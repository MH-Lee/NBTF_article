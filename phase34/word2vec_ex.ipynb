{
 "cells": [
  {
   "cell_type": "code",
   "execution_count": 1,
   "metadata": {
    "collapsed": true
   },
   "outputs": [],
   "source": [
    "from gensim.models.doc2vec import Doc2Vec, TaggedDocument"
   ]
  },
  {
   "cell_type": "code",
   "execution_count": 23,
   "metadata": {},
   "outputs": [],
   "source": [
    "d2v_model = Doc2Vec.load('../model/word_embedding/Doc2vec_new_small2_4.model')"
   ]
  },
  {
   "cell_type": "code",
   "execution_count": 24,
   "metadata": {},
   "outputs": [],
   "source": [
    "w2v_model = Doc2Vec.load('../model/word_embedding/Word2vec1(base_token).model')"
   ]
  },
  {
   "cell_type": "code",
   "execution_count": 41,
   "metadata": {},
   "outputs": [],
   "source": [
    "docvecs = d2v_model.docvecs['SNS 플랫폼']"
   ]
  },
  {
   "cell_type": "code",
   "execution_count": 45,
   "metadata": {},
   "outputs": [
    {
     "name": "stderr",
     "output_type": "stream",
     "text": [
      "C:\\Users\\lmhoon012\\Anaconda3\\envs\\project\\lib\\site-packages\\ipykernel_launcher.py:1: DeprecationWarning: Call to deprecated `most_similar` (Method will be removed in 4.0.0, use self.wv.most_similar() instead).\n",
      "  \"\"\"Entry point for launching an IPython kernel.\n"
     ]
    },
    {
     "data": {
      "text/plain": [
       "[('처리기반', 0.5468618869781494),\n",
       " ('언어', 0.4632699489593506),\n",
       " ('이해', 0.4616487920284271),\n",
       " ('비서', 0.44810760021209717),\n",
       " ('마이닝', 0.44076305627822876),\n",
       " ('언어처리', 0.42521846294403076),\n",
       " ('자연어처리', 0.42430952191352844),\n",
       " ('음성인식', 0.4139140546321869),\n",
       " ('텍스트', 0.41231390833854675),\n",
       " ('지식', 0.41174185276031494),\n",
       " ('대화처리', 0.4088413119316101),\n",
       " ('정보검색', 0.4054412245750427),\n",
       " ('형태소', 0.4040067791938782),\n",
       " ('시각자료', 0.40168628096580505),\n",
       " ('rpa', 0.39182987809181213),\n",
       " ('대화형', 0.3916108012199402),\n",
       " ('음성대화처리', 0.38932472467422485),\n",
       " ('언어학', 0.3891017436981201),\n",
       " ('감성분석', 0.3870519995689392),\n",
       " ('소셜분석', 0.38583773374557495),\n",
       " ('자동번역', 0.38084232807159424),\n",
       " ('의사소통', 0.3764190077781677),\n",
       " ('질의', 0.3730704188346863),\n",
       " ('언어분석기술', 0.3672589063644409),\n",
       " ('nlp', 0.3651466369628906),\n",
       " ('인지컴퓨팅', 0.3649289906024933),\n",
       " ('구문분석', 0.3628585934638977),\n",
       " ('잘못', 0.36282485723495483),\n",
       " ('한국어', 0.3615611791610718),\n",
       " ('machinelearning', 0.36084693670272827)]"
      ]
     },
     "execution_count": 45,
     "metadata": {},
     "output_type": "execute_result"
    }
   ],
   "source": [
    "w2v_model.most_similar('자연어', topn=30)"
   ]
  }
 ],
 "metadata": {
  "kernelspec": {
   "display_name": "Python 3",
   "language": "python",
   "name": "python3"
  },
  "language_info": {
   "codemirror_mode": {
    "name": "ipython",
    "version": 3
   },
   "file_extension": ".py",
   "mimetype": "text/x-python",
   "name": "python",
   "nbconvert_exporter": "python",
   "pygments_lexer": "ipython3",
   "version": "3.8.3"
  }
 },
 "nbformat": 4,
 "nbformat_minor": 4
}
